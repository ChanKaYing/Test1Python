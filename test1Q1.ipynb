{
 "cells": [
  {
   "cell_type": "code",
   "execution_count": 7,
   "id": "91025ffd-52d8-459b-ad48-cc95cd097daf",
   "metadata": {},
   "outputs": [
    {
     "name": "stdout",
     "output_type": "stream",
     "text": [
      "Welcome to Hangman!\n",
      "\n",
      "           -----\n",
      "           |   |\n",
      "               |\n",
      "               |\n",
      "               |\n",
      "               |\n",
      "        =========\n",
      "        \n",
      "Word: _ _ _ _ _ _ _ _\n",
      "Guessed letters: \n"
     ]
    },
    {
     "name": "stdin",
     "output_type": "stream",
     "text": [
      "Guess a letter:  e\n"
     ]
    },
    {
     "name": "stdout",
     "output_type": "stream",
     "text": [
      "\n",
      "\n",
      "           -----\n",
      "           |   |\n",
      "               |\n",
      "               |\n",
      "               |\n",
      "               |\n",
      "        =========\n",
      "        \n",
      "Word: _ _ _ _ _ _ E _\n",
      "Guessed letters: E\n"
     ]
    },
    {
     "name": "stdin",
     "output_type": "stream",
     "text": [
      "Guess a letter:  s\n"
     ]
    },
    {
     "name": "stdout",
     "output_type": "stream",
     "text": [
      "Incorrect guess. You have 5 tries left.\n",
      "\n",
      "\n",
      "           -----\n",
      "           |   |\n",
      "           O   |\n",
      "               |\n",
      "               |\n",
      "               |\n",
      "        =========\n",
      "        \n",
      "Word: _ _ _ _ _ _ E _\n",
      "Guessed letters: E S\n"
     ]
    },
    {
     "name": "stdin",
     "output_type": "stream",
     "text": [
      "Guess a letter:  d\n"
     ]
    },
    {
     "name": "stdout",
     "output_type": "stream",
     "text": [
      "Incorrect guess. You have 4 tries left.\n",
      "\n",
      "\n",
      "           -----\n",
      "           |   |\n",
      "           O   |\n",
      "          /    |\n",
      "               |\n",
      "               |\n",
      "        =========\n",
      "        \n",
      "Word: _ _ _ _ _ _ E _\n",
      "Guessed letters: D E S\n"
     ]
    },
    {
     "name": "stdin",
     "output_type": "stream",
     "text": [
      "Guess a letter:  p\n"
     ]
    },
    {
     "name": "stdout",
     "output_type": "stream",
     "text": [
      "\n",
      "\n",
      "           -----\n",
      "           |   |\n",
      "           O   |\n",
      "          /    |\n",
      "               |\n",
      "               |\n",
      "        =========\n",
      "        \n",
      "Word: _ _ _ P _ _ E _\n",
      "Guessed letters: D E P S\n"
     ]
    },
    {
     "name": "stdin",
     "output_type": "stream",
     "text": [
      "Guess a letter:  y\n"
     ]
    },
    {
     "name": "stdout",
     "output_type": "stream",
     "text": [
      "Incorrect guess. You have 3 tries left.\n",
      "\n",
      "\n",
      "           -----\n",
      "           |   |\n",
      "           O   |\n",
      "          / \\  |\n",
      "               |\n",
      "               |\n",
      "        =========\n",
      "        \n",
      "Word: _ _ _ P _ _ E _\n",
      "Guessed letters: D E P S Y\n"
     ]
    },
    {
     "name": "stdin",
     "output_type": "stream",
     "text": [
      "Guess a letter:  a\n"
     ]
    },
    {
     "name": "stdout",
     "output_type": "stream",
     "text": [
      "Incorrect guess. You have 2 tries left.\n",
      "\n",
      "\n",
      "           -----\n",
      "           |   |\n",
      "           O   |\n",
      "          /|\\  |\n",
      "               |\n",
      "               |\n",
      "        =========\n",
      "        \n",
      "Word: _ _ _ P _ _ E _\n",
      "Guessed letters: A D E P S Y\n"
     ]
    },
    {
     "name": "stdin",
     "output_type": "stream",
     "text": [
      "Guess a letter:  i\n"
     ]
    },
    {
     "name": "stdout",
     "output_type": "stream",
     "text": [
      "Incorrect guess. You have 1 tries left.\n",
      "\n",
      "\n",
      "           -----\n",
      "           |   |\n",
      "           O   |\n",
      "          /|\\  |\n",
      "          /    |\n",
      "               |\n",
      "        =========\n",
      "        \n",
      "Word: _ _ _ P _ _ E _\n",
      "Guessed letters: A D E I P S Y\n"
     ]
    },
    {
     "name": "stdin",
     "output_type": "stream",
     "text": [
      "Guess a letter:  v\n"
     ]
    },
    {
     "name": "stdout",
     "output_type": "stream",
     "text": [
      "Incorrect guess. You have 0 tries left.\n",
      "\n",
      "\n",
      "           -----\n",
      "           |   |\n",
      "           O   |\n",
      "          /|\\  |\n",
      "          / \\  |\n",
      "               |\n",
      "        =========\n",
      "        \n",
      "Sorry, you ran out of tries. The word was: COMPUTER\n"
     ]
    }
   ],
   "source": [
    "import random\n",
    "\n",
    "def display_hangman(tries):\n",
    "    stages = [\n",
    "        \"\"\"\n",
    "           -----\n",
    "           |   |\n",
    "           O   |\n",
    "          /|\\  |\n",
    "          / \\  |\n",
    "               |\n",
    "        =========\n",
    "        \"\"\",\n",
    "        \"\"\"\n",
    "           -----\n",
    "           |   |\n",
    "           O   |\n",
    "          /|\\  |\n",
    "          /    |\n",
    "               |\n",
    "        =========\n",
    "        \"\"\",\n",
    "        \"\"\"\n",
    "           -----\n",
    "           |   |\n",
    "           O   |\n",
    "          /|\\  |\n",
    "               |\n",
    "               |\n",
    "        =========\n",
    "        \"\"\",\n",
    "        \"\"\"\n",
    "           -----\n",
    "           |   |\n",
    "           O   |\n",
    "          / \\  |\n",
    "               |\n",
    "               |\n",
    "        =========\n",
    "        \"\"\",\n",
    "        \"\"\"\n",
    "           -----\n",
    "           |   |\n",
    "           O   |\n",
    "          /    |\n",
    "               |\n",
    "               |\n",
    "        =========\n",
    "        \"\"\",\n",
    "        \"\"\"\n",
    "           -----\n",
    "           |   |\n",
    "           O   |\n",
    "               |\n",
    "               |\n",
    "               |\n",
    "        =========\n",
    "        \"\"\",\n",
    "        \"\"\"\n",
    "           -----\n",
    "           |   |\n",
    "               |\n",
    "               |\n",
    "               |\n",
    "               |\n",
    "        =========\n",
    "        \"\"\"\n",
    "    ]\n",
    "    return stages[tries]\n",
    "\n",
    "def choose_word():\n",
    "    words = [\"PROGRAMMING\", \"DEVELOPER\", \"PYTHONISTA\", \"INTERNET\", \"COMPUTER\", \"SOFTWARE\", \"HANGMAN\"]\n",
    "    return random.choice(words)\n",
    "\n",
    "def hangman():\n",
    "    word = choose_word()\n",
    "    word_letters = set(word)\n",
    "    guessed_letters = set()\n",
    "    guessed_word = [\"_\"] * len(word)\n",
    "    tries = 6\n",
    "    \n",
    "    print(\"Welcome to Hangman!\")\n",
    "    \n",
    "    while tries > 0 and word_letters:\n",
    "        print(display_hangman(tries))\n",
    "        print(f\"Word: {' '.join(guessed_word)}\")\n",
    "        print(f\"Guessed letters: {' '.join(sorted(guessed_letters))}\")\n",
    "        \n",
    "        guess = input(\"Guess a letter: \").upper()\n",
    "        \n",
    "        if guess in guessed_letters:\n",
    "            print(\"You already guessed that letter.\")\n",
    "        elif guess in word_letters:\n",
    "            word_letters.remove(guess)\n",
    "            guessed_letters.add(guess)\n",
    "            for i, letter in enumerate(word):\n",
    "                if letter == guess:\n",
    "                    guessed_word[i] = letter\n",
    "        else:\n",
    "            guessed_letters.add(guess)\n",
    "            tries -= 1\n",
    "            print(f\"Incorrect guess. You have {tries} tries left.\")\n",
    "        \n",
    "        print()\n",
    "    \n",
    "    if not word_letters:\n",
    "        print(f\"Congratulations! You guessed the word: {word}\")\n",
    "    else:\n",
    "        print(display_hangman(tries))\n",
    "        print(f\"Sorry, you ran out of tries. The word was: {word}\")\n",
    "\n",
    "# Run the game\n",
    "hangman()\n"
   ]
  },
  {
   "cell_type": "code",
   "execution_count": null,
   "id": "7e89f30a-e172-42d4-a53b-b63cf79683a2",
   "metadata": {},
   "outputs": [],
   "source": []
  }
 ],
 "metadata": {
  "kernelspec": {
   "display_name": "Python 3 (ipykernel)",
   "language": "python",
   "name": "python3"
  },
  "language_info": {
   "codemirror_mode": {
    "name": "ipython",
    "version": 3
   },
   "file_extension": ".py",
   "mimetype": "text/x-python",
   "name": "python",
   "nbconvert_exporter": "python",
   "pygments_lexer": "ipython3",
   "version": "3.10.9"
  }
 },
 "nbformat": 4,
 "nbformat_minor": 5
}
